{
  "nbformat": 4,
  "nbformat_minor": 0,
  "metadata": {
    "colab": {
      "provenance": [],
      "authorship_tag": "ABX9TyP7EWBk3GUGfC0TY/91tTwD",
      "include_colab_link": true
    },
    "kernelspec": {
      "name": "python3",
      "display_name": "Python 3"
    },
    "language_info": {
      "name": "python"
    }
  },
  "cells": [
    {
      "cell_type": "markdown",
      "metadata": {
        "id": "view-in-github",
        "colab_type": "text"
      },
      "source": [
        "<a href=\"https://colab.research.google.com/github/suriyaprakash22/DV-project/blob/main/E_Commerce.ipynb\" target=\"_parent\"><img src=\"https://colab.research.google.com/assets/colab-badge.svg\" alt=\"Open In Colab\"/></a>"
      ]
    },
    {
      "cell_type": "code",
      "execution_count": 2,
      "metadata": {
        "colab": {
          "base_uri": "https://localhost:8080/",
          "height": 140
        },
        "id": "Iiq4UgjSjRpP",
        "outputId": "b8f6d3a3-60b4-4520-f67c-8cec920d6658"
      },
      "outputs": [
        {
          "output_type": "error",
          "ename": "SyntaxError",
          "evalue": "ignored",
          "traceback": [
            "\u001b[0;36m  File \u001b[0;32m\"<ipython-input-2-c9e7ac79ccf6>\"\u001b[0;36m, line \u001b[0;32m4\u001b[0m\n\u001b[0;31m    ​\u001b[0m\n\u001b[0m    ^\u001b[0m\n\u001b[0;31mSyntaxError\u001b[0m\u001b[0;31m:\u001b[0m invalid non-printable character U+200B\n"
          ]
        }
      ],
      "source": [
        "import pandas as pd\n",
        "import matplotlib.pyplot as plt\n",
        "from matplotlib.sankey import Sankey\n",
        "​\n",
        "# Load the dataset from the CSV file\n",
        "df = pd.read_csv('/content/E-Commerce.csv')\n",
        "​\n",
        "# Aggregate data to count clicks and purchases for each product and category\n",
        "product_click_counts = df[df['action'] == 'click']['product_name'].value_counts()\n",
        "product_purchase_counts = df[df['action'] == 'purchase']['product_name'].value_counts()\n",
        "​\n",
        "​\n",
        "# Create bar charts for products\n",
        "plt.figure(figsize=(12, 6))\n",
        "plt.subplot(1, 2, 1)\n",
        "product_click_counts.plot(kind='bar', title='Product Click Counts')\n",
        "plt.subplot(1, 2, 2)\n",
        "product_purchase_counts.plot(kind='bar', title='Product Purchase Counts')\n",
        "​\n",
        "# Task 2: Analyze User Click Patterns\n",
        "# Create pie charts for categories\n",
        "plt.figure(figsize=(12, 6))\n",
        "plt.subplot(1, 2, 1)\n",
        "product_click_counts.plot(kind='pie', autopct='%1.1f%%', title='Product Click Counts')\n",
        "plt.subplot(1, 2, 2)\n",
        "product_purchase_counts.plot(kind='pie', autopct='%1.1f%%', title='Product Purchase Counts')\n",
        "​\n",
        "​\n",
        "# Create Sankey diagram\n",
        "fig, ax = plt.subplots()\n",
        "sankey = Sankey(ax=ax, unit=None)\n",
        "sankey.add(flows=[1, 1, -1, -1], labels=['Click', 'Purchase', 'Click', 'Purchase'], orientations=[0, 1, -1, 1], rotation=45)\n",
        "diagrams = sankey.finish()\n",
        "​\n",
        "# Display the visualizations\n",
        "plt.tight_layout()\n",
        "plt.show()"
      ]
    }
  ]
}